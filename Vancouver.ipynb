{
 "cells": [
  {
   "cell_type": "markdown",
   "metadata": {},
   "source": [
    "# Finding the best Neighbourhood to live in Vancouver"
   ]
  },
  {
   "cell_type": "markdown",
   "metadata": {},
   "source": [
    "### In this project, I am going to find out where is best to live in Vancouver for a just married couple, they are planning to move to Vancouver, but dont know the different Neighborhoods.\n",
    "\n",
    "### I will be downloding all data from Foursqare and compare the different venues in each neigborhood. then , I will be taking the mean rating from each category and average the mean ratings to find out which is the best neighbourhood."
   ]
  },
  {
   "cell_type": "markdown",
   "metadata": {},
   "source": [
    "## 1. Import Libraries"
   ]
  },
  {
   "cell_type": "code",
   "execution_count": 1,
   "metadata": {},
   "outputs": [
    {
     "name": "stdout",
     "output_type": "stream",
     "text": [
      "Requirement already satisfied: bs4 in /home/jupyterlab/conda/envs/python/lib/python3.6/site-packages (0.0.1)\n",
      "Requirement already satisfied: beautifulsoup4 in /home/jupyterlab/conda/envs/python/lib/python3.6/site-packages (from bs4) (4.9.3)\n",
      "Requirement already satisfied: soupsieve>1.2; python_version >= \"3.0\" in /home/jupyterlab/conda/envs/python/lib/python3.6/site-packages (from beautifulsoup4->bs4) (2.2.1)\n"
     ]
    }
   ],
   "source": [
    "#!pip install geopy\n",
    "!pip install bs4"
   ]
  },
  {
   "cell_type": "code",
   "execution_count": 2,
   "metadata": {},
   "outputs": [],
   "source": [
    "import requests  # this module helps us to download a web page\n",
    "import pandas as pd\n",
    "from bs4 import BeautifulSoup # this module helps in web scrapping.\n",
    "import folium\n",
    "from geopy.geocoders import Nominatim \n",
    "import matplotlib.cm as cm\n",
    "import matplotlib.colors as colors"
   ]
  },
  {
   "cell_type": "markdown",
   "metadata": {},
   "source": [
    "## Reading Vancouber Neighbourhoods"
   ]
  },
  {
   "cell_type": "code",
   "execution_count": 20,
   "metadata": {},
   "outputs": [],
   "source": [
    "url = 'https://www.zipcodesonline.com/2020/07/vancouver-postal-code.html'\n",
    "raw_table=pd.read_html(url, flavor='bs4')[1]\n",
    "raw_table.columns=['SL','Neighbourhood','PostCode','City']\n",
    "raw_table= raw_table.dropna()\n",
    "raw_table.reset_index(inplace=True, drop=True)"
   ]
  },
  {
   "cell_type": "code",
   "execution_count": 44,
   "metadata": {},
   "outputs": [
    {
     "data": {
      "text/html": [
       "<div>\n",
       "<style scoped>\n",
       "    .dataframe tbody tr th:only-of-type {\n",
       "        vertical-align: middle;\n",
       "    }\n",
       "\n",
       "    .dataframe tbody tr th {\n",
       "        vertical-align: top;\n",
       "    }\n",
       "\n",
       "    .dataframe thead th {\n",
       "        text-align: right;\n",
       "    }\n",
       "</style>\n",
       "<table border=\"1\" class=\"dataframe\">\n",
       "  <thead>\n",
       "    <tr style=\"text-align: right;\">\n",
       "      <th></th>\n",
       "      <th>SL</th>\n",
       "      <th>Neighbourhood</th>\n",
       "      <th>PostCode</th>\n",
       "      <th>City</th>\n",
       "    </tr>\n",
       "  </thead>\n",
       "  <tbody>\n",
       "    <tr>\n",
       "      <th>0</th>\n",
       "      <td>SL. NO.</td>\n",
       "      <td>NEIGHBOURHOOD / LOCALITY</td>\n",
       "      <td>POSTAL CODES</td>\n",
       "      <td>CITY</td>\n",
       "    </tr>\n",
       "    <tr>\n",
       "      <th>1</th>\n",
       "      <td>1</td>\n",
       "      <td>Bentall Centre</td>\n",
       "      <td>V7X</td>\n",
       "      <td>Vancouver</td>\n",
       "    </tr>\n",
       "    <tr>\n",
       "      <th>2</th>\n",
       "      <td>2</td>\n",
       "      <td>Canada Place</td>\n",
       "      <td>V6C</td>\n",
       "      <td>Vancouver</td>\n",
       "    </tr>\n",
       "    <tr>\n",
       "      <th>3</th>\n",
       "      <td>3</td>\n",
       "      <td>Central Kitsilano</td>\n",
       "      <td>V6K</td>\n",
       "      <td>Vancouver</td>\n",
       "    </tr>\n",
       "    <tr>\n",
       "      <th>4</th>\n",
       "      <td>4</td>\n",
       "      <td>Chaldecutt</td>\n",
       "      <td>V6S</td>\n",
       "      <td>Vancouver</td>\n",
       "    </tr>\n",
       "  </tbody>\n",
       "</table>\n",
       "</div>"
      ],
      "text/plain": [
       "        SL             Neighbourhood      PostCode       City\n",
       "0  SL. NO.  NEIGHBOURHOOD / LOCALITY  POSTAL CODES       CITY\n",
       "1        1            Bentall Centre           V7X  Vancouver\n",
       "2        2              Canada Place           V6C  Vancouver\n",
       "3        3         Central Kitsilano           V6K  Vancouver\n",
       "4        4                Chaldecutt           V6S  Vancouver"
      ]
     },
     "execution_count": 44,
     "metadata": {},
     "output_type": "execute_result"
    }
   ],
   "source": [
    "raw_table.head()"
   ]
  },
  {
   "cell_type": "code",
   "execution_count": 57,
   "metadata": {},
   "outputs": [
    {
     "data": {
      "text/html": [
       "<div>\n",
       "<style scoped>\n",
       "    .dataframe tbody tr th:only-of-type {\n",
       "        vertical-align: middle;\n",
       "    }\n",
       "\n",
       "    .dataframe tbody tr th {\n",
       "        vertical-align: top;\n",
       "    }\n",
       "\n",
       "    .dataframe thead th {\n",
       "        text-align: right;\n",
       "    }\n",
       "</style>\n",
       "<table border=\"1\" class=\"dataframe\">\n",
       "  <thead>\n",
       "    <tr style=\"text-align: right;\">\n",
       "      <th></th>\n",
       "      <th>Postal Code</th>\n",
       "      <th>Neighbourhood</th>\n",
       "      <th>Latitude</th>\n",
       "      <th>Longitude</th>\n",
       "    </tr>\n",
       "  </thead>\n",
       "  <tbody>\n",
       "    <tr>\n",
       "      <th>0</th>\n",
       "      <td>V7X</td>\n",
       "      <td>Bentall Centre</td>\n",
       "      <td>49.286234</td>\n",
       "      <td>-123.119028</td>\n",
       "    </tr>\n",
       "    <tr>\n",
       "      <th>1</th>\n",
       "      <td>V6C</td>\n",
       "      <td>Canada Place</td>\n",
       "      <td>49.288404</td>\n",
       "      <td>-123.111966</td>\n",
       "    </tr>\n",
       "    <tr>\n",
       "      <th>2</th>\n",
       "      <td>V6K</td>\n",
       "      <td>Central Kitsilano</td>\n",
       "      <td>49.269410</td>\n",
       "      <td>-123.155267</td>\n",
       "    </tr>\n",
       "    <tr>\n",
       "      <th>3</th>\n",
       "      <td>V6A</td>\n",
       "      <td>Chinatown</td>\n",
       "      <td>49.279981</td>\n",
       "      <td>-123.104089</td>\n",
       "    </tr>\n",
       "    <tr>\n",
       "      <th>4</th>\n",
       "      <td>V6C</td>\n",
       "      <td>Coal Harbour</td>\n",
       "      <td>49.290375</td>\n",
       "      <td>-123.129281</td>\n",
       "    </tr>\n",
       "  </tbody>\n",
       "</table>\n",
       "</div>"
      ],
      "text/plain": [
       "  Postal Code      Neighbourhood   Latitude   Longitude\n",
       "0         V7X     Bentall Centre  49.286234 -123.119028\n",
       "1         V6C       Canada Place  49.288404 -123.111966\n",
       "2         V6K  Central Kitsilano  49.269410 -123.155267\n",
       "3         V6A          Chinatown  49.279981 -123.104089\n",
       "4         V6C       Coal Harbour  49.290375 -123.129281"
      ]
     },
     "execution_count": 57,
     "metadata": {},
     "output_type": "execute_result"
    }
   ],
   "source": [
    "df = pd.DataFrame(columns=[\"Postal Code\",\"Neighbourhood\",\"Latitude\",\"Longitude\"])\n",
    "for i in raw_table.index:\n",
    "    try:\n",
    "        address = raw_table.loc[i,'Neighbourhood']+', Vancouver, BC'\n",
    "        geolocator = Nominatim(user_agent=\"explorer\")\n",
    "        location = geolocator.geocode(address)\n",
    "        latitude = location.latitude\n",
    "        longitude = location.longitude\n",
    "        df = df.append({\"Postal Code\": raw_table.loc[i,'PostCode'],\"Latitude\":  latitude,\"Longitude\":  longitude, \"Neighbourhood\": raw_table.loc[i,'Neighbourhood']}, ignore_index=True)\n",
    "    except:\n",
    "        x=1\n",
    "df.head()"
   ]
  },
  {
   "cell_type": "code",
   "execution_count": 111,
   "metadata": {},
   "outputs": [],
   "source": [
    "# mapping the neighbourhoods.\n",
    "map_neigh = folium.Map(location=[df['Latitude'][0], df['Longitude'][0]], zoom_start=11)\n",
    "# add markers to the map\n",
    "for lat, lon, poi in zip(df['Latitude'], df['Longitude'], df['Neighbourhood']):\n",
    "    label = folium.Popup(str(poi), parse_html=True)\n",
    "    folium.CircleMarker(\n",
    "        [lat, lon],\n",
    "        radius=5,\n",
    "        popup=poi,\n",
    "        fill=True,\n",
    "        fill_opacity=0.7).add_to(map_neigh)"
   ]
  },
  {
   "cell_type": "code",
   "execution_count": null,
   "metadata": {},
   "outputs": [],
   "source": [
    "map_neigh"
   ]
  },
  {
   "cell_type": "markdown",
   "metadata": {},
   "source": [
    "## 2. Read Vancouver Venues Data"
   ]
  },
  {
   "cell_type": "code",
   "execution_count": 62,
   "metadata": {},
   "outputs": [],
   "source": [
    "#Foursquare credentials\n",
    "CLIENT_ID = 'LVQZMVH2XZMPQLRMMR2TZ04O0LQ1TYZRMPGA54UD5X1EVYZU' # your Foursquare ID\n",
    "CLIENT_SECRET = 'KCLBLZIS33ZJDINHE0FW0NXJ3LSRQYPIGWRMA0DVTGJSZYOP' # your Foursquare Secret\n",
    "VERSION = '20180605' # Foursquare API version\n",
    "LIMIT = 100 # A default Foursquare API limit value"
   ]
  },
  {
   "cell_type": "code",
   "execution_count": 64,
   "metadata": {},
   "outputs": [],
   "source": [
    "# function that extracts the category of the venue\n",
    "def get_category_type(row):\n",
    "    try:\n",
    "        categories_list = row['categories']\n",
    "    except:\n",
    "        categories_list = row['venue.categories']\n",
    "        \n",
    "    if len(categories_list) == 0:\n",
    "        return None\n",
    "    else:\n",
    "        return categories_list[0]['name']"
   ]
  },
  {
   "cell_type": "code",
   "execution_count": 176,
   "metadata": {},
   "outputs": [],
   "source": [
    "def getNearbyVenues(names, latitudes, longitudes, radius=500):  \n",
    "    LIMIT = 100\n",
    "    venues_list=pd.DataFrame(columns=['Neighbourhood','name', 'categories', 'lat', 'lng','postalCode','id'])\n",
    "    for name, lat, lng in zip(names, latitudes, longitudes):  \n",
    "        # create the API request URL\n",
    "        url = 'https://api.foursquare.com/v2/venues/explore?&client_id={}&client_secret={}&v={}&ll={},{}&radius={}&limit={}'.format(CLIENT_ID, CLIENT_SECRET, VERSION, lat, lng, radius, LIMIT)\n",
    "        try:    \n",
    "            # make the GET request\n",
    "            results = requests.get(url).json()\n",
    "            venues = results['response']['groups'][0]['items'] \n",
    "            normalized_venues = pd.json_normalize(venues)\n",
    "            filtered_columns = ['venue.name', 'venue.categories', 'venue.location.lat', 'venue.location.lng','venue.location.postalCode','venue.id']\n",
    "            normalized_venues =normalized_venues.loc[:, filtered_columns]\n",
    "            normalized_venues['venue.categories'] = normalized_venues.apply(get_category_type, axis=1)\n",
    "            normalized_venues.columns = [col.split(\".\")[-1] for col in normalized_venues.columns]\n",
    "            normalized_venues['Neighbourhood'] = name\n",
    "            # append new data\n",
    "            venues_list = pd.concat([venues_list,normalized_venues],ignore_index=True)\n",
    "        except:\n",
    "            print(\"error\")\n",
    "    return(venues_list)"
   ]
  },
  {
   "cell_type": "code",
   "execution_count": 177,
   "metadata": {},
   "outputs": [
    {
     "name": "stdout",
     "output_type": "stream",
     "text": [
      "error\n",
      "error\n"
     ]
    }
   ],
   "source": [
    "neigh_venues = getNearbyVenues(names=df['Neighbourhood'],\n",
    "                               latitudes=df['Latitude'],\n",
    "                               longitudes=df['Longitude']\n",
    "                               )"
   ]
  },
  {
   "cell_type": "code",
   "execution_count": 182,
   "metadata": {},
   "outputs": [
    {
     "data": {
      "text/plain": [
       "(1202, 7)"
      ]
     },
     "execution_count": 182,
     "metadata": {},
     "output_type": "execute_result"
    }
   ],
   "source": [
    "#remove_duplicates\n",
    "neigh_venues.drop_duplicates(subset=['id'],inplace=True)\n",
    "neigh_venues.shape"
   ]
  },
  {
   "cell_type": "code",
   "execution_count": 181,
   "metadata": {},
   "outputs": [],
   "source": [
    "#save vanues to csv\n",
    "neigh_venues.to_csv('Vancouver_venues.csv',index=False)"
   ]
  },
  {
   "cell_type": "code",
   "execution_count": 184,
   "metadata": {},
   "outputs": [
    {
     "data": {
      "text/plain": [
       "(338, 7)"
      ]
     },
     "execution_count": 184,
     "metadata": {},
     "output_type": "execute_result"
    }
   ],
   "source": [
    "#As there is a limit for getting the ratings for free accounts, I am doing the analysis with only the restaurants.\n",
    "neigh_venues_restaurant=neigh_venues[neigh_venues.categories.str.contains(\"Restaurant\")]\n",
    "neigh_venues_restaurant.shape"
   ]
  },
  {
   "cell_type": "code",
   "execution_count": 189,
   "metadata": {},
   "outputs": [
    {
     "name": "stdout",
     "output_type": "stream",
     "text": [
      "error\n",
      "error\n",
      "error\n",
      "error\n",
      "error\n",
      "error\n",
      "error\n",
      "error\n",
      "error\n",
      "error\n",
      "error\n",
      "error\n",
      "error\n",
      "error\n",
      "error\n",
      "error\n",
      "error\n",
      "error\n",
      "error\n",
      "error\n",
      "error\n",
      "error\n",
      "error\n",
      "error\n",
      "error\n",
      "error\n"
     ]
    },
    {
     "data": {
      "text/plain": [
       "(312, 7)"
      ]
     },
     "execution_count": 189,
     "metadata": {},
     "output_type": "execute_result"
    }
   ],
   "source": [
    "#get ratings of restaurants\n",
    "venues_l = pd.DataFrame(columns=['id','rating','ratingSignals','tipCount','LikesCount','PhotosCount','TipsCount'])\n",
    "for row in neigh_venues_restaurant.index:\n",
    "    try:\n",
    "        VENUE_ID=neigh_venues_restaurant['id'][row]\n",
    "        # create URL\n",
    "        url = 'https://api.foursquare.com/v2/venues/{}?&client_id={}&client_secret={}&v={}'.format(\n",
    "            VENUE_ID,\n",
    "            CLIENT_ID, \n",
    "            CLIENT_SECRET, \n",
    "            VERSION)\n",
    "        url # display URL\n",
    "        results2 = requests.get(url).json()\n",
    "        venue_stats = pd.json_normalize(results2[\"response\"]['venue']) # flatten JSON\n",
    "        # filter columns\n",
    "        #filtered_columns = ['id','rating','ratingSignals','stats.tipCount','price.tier','likes.count','photos.count','tips.count']\n",
    "        filtered_columns = ['id','rating','ratingSignals','stats.tipCount','likes.count','photos.count','tips.count']\n",
    "        venue_stats =venue_stats.loc[:, filtered_columns]\n",
    "\n",
    "        # clean columns\n",
    "        venue_stats.columns = [col.split(\".\")[-1] for col in venue_stats.columns]\n",
    "        #venue_stats.columns = ['id','rating','ratingSignals','tipCount','PriceTier','LikesCount','PhotosCount','TipsCount']\n",
    "        venue_stats.columns = ['id','rating','ratingSignals','tipCount','LikesCount','PhotosCount','TipsCount']\n",
    "        venues_l = pd.concat([venues_l,venue_stats], sort=False)\n",
    "    except:\n",
    "        continue\n",
    "venues_l.shape\n"
   ]
  },
  {
   "cell_type": "code",
   "execution_count": 190,
   "metadata": {},
   "outputs": [
    {
     "data": {
      "text/plain": [
       "(312, 13)"
      ]
     },
     "execution_count": 190,
     "metadata": {},
     "output_type": "execute_result"
    }
   ],
   "source": [
    "venues_merged=pd.merge(neigh_venues_restaurant, venues_l, on=\"id\")\n",
    "venues_merged.shape"
   ]
  },
  {
   "cell_type": "code",
   "execution_count": 191,
   "metadata": {},
   "outputs": [
    {
     "data": {
      "text/html": [
       "<div>\n",
       "<style scoped>\n",
       "    .dataframe tbody tr th:only-of-type {\n",
       "        vertical-align: middle;\n",
       "    }\n",
       "\n",
       "    .dataframe tbody tr th {\n",
       "        vertical-align: top;\n",
       "    }\n",
       "\n",
       "    .dataframe thead th {\n",
       "        text-align: right;\n",
       "    }\n",
       "</style>\n",
       "<table border=\"1\" class=\"dataframe\">\n",
       "  <thead>\n",
       "    <tr style=\"text-align: right;\">\n",
       "      <th></th>\n",
       "      <th>Neighbourhood</th>\n",
       "      <th>name</th>\n",
       "      <th>categories</th>\n",
       "      <th>lat</th>\n",
       "      <th>lng</th>\n",
       "      <th>postalCode</th>\n",
       "      <th>id</th>\n",
       "      <th>rating</th>\n",
       "      <th>ratingSignals</th>\n",
       "      <th>tipCount</th>\n",
       "      <th>LikesCount</th>\n",
       "      <th>PhotosCount</th>\n",
       "      <th>TipsCount</th>\n",
       "    </tr>\n",
       "  </thead>\n",
       "  <tbody>\n",
       "    <tr>\n",
       "      <th>0</th>\n",
       "      <td>Bentall Centre</td>\n",
       "      <td>Cactus Club Cafe</td>\n",
       "      <td>American Restaurant</td>\n",
       "      <td>49.285699</td>\n",
       "      <td>-123.119249</td>\n",
       "      <td>V6C 0A8</td>\n",
       "      <td>4aaa9a0ef964a5208d5620e3</td>\n",
       "      <td>8.2</td>\n",
       "      <td>325</td>\n",
       "      <td>75</td>\n",
       "      <td>216</td>\n",
       "      <td>411</td>\n",
       "      <td>75</td>\n",
       "    </tr>\n",
       "    <tr>\n",
       "      <th>1</th>\n",
       "      <td>Bentall Centre</td>\n",
       "      <td>Nightingale</td>\n",
       "      <td>Restaurant</td>\n",
       "      <td>49.287343</td>\n",
       "      <td>-123.117674</td>\n",
       "      <td>V6E 0C4</td>\n",
       "      <td>572e921e498ea744e2e8a8b0</td>\n",
       "      <td>8.2</td>\n",
       "      <td>114</td>\n",
       "      <td>20</td>\n",
       "      <td>84</td>\n",
       "      <td>86</td>\n",
       "      <td>20</td>\n",
       "    </tr>\n",
       "    <tr>\n",
       "      <th>2</th>\n",
       "      <td>Bentall Centre</td>\n",
       "      <td>The Keg Steakhouse + Bar - Dunsmuir</td>\n",
       "      <td>Restaurant</td>\n",
       "      <td>49.283438</td>\n",
       "      <td>-123.116363</td>\n",
       "      <td>V6B 1N3</td>\n",
       "      <td>5170656ae4b029a050dd8a49</td>\n",
       "      <td>8.8</td>\n",
       "      <td>203</td>\n",
       "      <td>33</td>\n",
       "      <td>158</td>\n",
       "      <td>123</td>\n",
       "      <td>33</td>\n",
       "    </tr>\n",
       "    <tr>\n",
       "      <th>3</th>\n",
       "      <td>Bentall Centre</td>\n",
       "      <td>Cactus Club Cafe</td>\n",
       "      <td>American Restaurant</td>\n",
       "      <td>49.289468</td>\n",
       "      <td>-123.117671</td>\n",
       "      <td>V6C 0C3</td>\n",
       "      <td>4d320c5498336dcb18401ff0</td>\n",
       "      <td>8.5</td>\n",
       "      <td>617</td>\n",
       "      <td>98</td>\n",
       "      <td>466</td>\n",
       "      <td>698</td>\n",
       "      <td>98</td>\n",
       "    </tr>\n",
       "    <tr>\n",
       "      <th>4</th>\n",
       "      <td>Bentall Centre</td>\n",
       "      <td>Joe Fortes Seafood &amp; Chop House</td>\n",
       "      <td>Seafood Restaurant</td>\n",
       "      <td>49.285017</td>\n",
       "      <td>-123.124410</td>\n",
       "      <td>V6E 3V5</td>\n",
       "      <td>4ab59f7cf964a520a97520e3</td>\n",
       "      <td>9.0</td>\n",
       "      <td>521</td>\n",
       "      <td>118</td>\n",
       "      <td>385</td>\n",
       "      <td>781</td>\n",
       "      <td>118</td>\n",
       "    </tr>\n",
       "  </tbody>\n",
       "</table>\n",
       "</div>"
      ],
      "text/plain": [
       "    Neighbourhood                                 name           categories  \\\n",
       "0  Bentall Centre                     Cactus Club Cafe  American Restaurant   \n",
       "1  Bentall Centre                          Nightingale           Restaurant   \n",
       "2  Bentall Centre  The Keg Steakhouse + Bar - Dunsmuir           Restaurant   \n",
       "3  Bentall Centre                     Cactus Club Cafe  American Restaurant   \n",
       "4  Bentall Centre      Joe Fortes Seafood & Chop House   Seafood Restaurant   \n",
       "\n",
       "         lat         lng postalCode                        id  rating  \\\n",
       "0  49.285699 -123.119249    V6C 0A8  4aaa9a0ef964a5208d5620e3     8.2   \n",
       "1  49.287343 -123.117674    V6E 0C4  572e921e498ea744e2e8a8b0     8.2   \n",
       "2  49.283438 -123.116363    V6B 1N3  5170656ae4b029a050dd8a49     8.8   \n",
       "3  49.289468 -123.117671    V6C 0C3  4d320c5498336dcb18401ff0     8.5   \n",
       "4  49.285017 -123.124410    V6E 3V5  4ab59f7cf964a520a97520e3     9.0   \n",
       "\n",
       "  ratingSignals tipCount LikesCount PhotosCount TipsCount  \n",
       "0           325       75        216         411        75  \n",
       "1           114       20         84          86        20  \n",
       "2           203       33        158         123        33  \n",
       "3           617       98        466         698        98  \n",
       "4           521      118        385         781       118  "
      ]
     },
     "execution_count": 191,
     "metadata": {},
     "output_type": "execute_result"
    }
   ],
   "source": [
    "venues_merged.head()"
   ]
  },
  {
   "cell_type": "code",
   "execution_count": 207,
   "metadata": {},
   "outputs": [],
   "source": [
    "#Convert to float\n",
    "venues_merged['LikesCount'] = venues_merged['LikesCount'].astype(float)\n",
    "venues_merged['TipsCount'] = venues_merged['TipsCount'].astype(float)"
   ]
  },
  {
   "cell_type": "code",
   "execution_count": 209,
   "metadata": {},
   "outputs": [
    {
     "data": {
      "text/html": [
       "<div>\n",
       "<style scoped>\n",
       "    .dataframe tbody tr th:only-of-type {\n",
       "        vertical-align: middle;\n",
       "    }\n",
       "\n",
       "    .dataframe tbody tr th {\n",
       "        vertical-align: top;\n",
       "    }\n",
       "\n",
       "    .dataframe thead th {\n",
       "        text-align: right;\n",
       "    }\n",
       "</style>\n",
       "<table border=\"1\" class=\"dataframe\">\n",
       "  <thead>\n",
       "    <tr style=\"text-align: right;\">\n",
       "      <th></th>\n",
       "      <th>lat</th>\n",
       "      <th>lng</th>\n",
       "      <th>rating</th>\n",
       "      <th>LikesCount</th>\n",
       "      <th>TipsCount</th>\n",
       "    </tr>\n",
       "    <tr>\n",
       "      <th>Neighbourhood</th>\n",
       "      <th></th>\n",
       "      <th></th>\n",
       "      <th></th>\n",
       "      <th></th>\n",
       "      <th></th>\n",
       "    </tr>\n",
       "  </thead>\n",
       "  <tbody>\n",
       "    <tr>\n",
       "      <th>Northwest West End</th>\n",
       "      <td>49.284070</td>\n",
       "      <td>-123.125610</td>\n",
       "      <td>8.766667</td>\n",
       "      <td>112.666667</td>\n",
       "      <td>47.333333</td>\n",
       "    </tr>\n",
       "    <tr>\n",
       "      <th>Northeast Downtown</th>\n",
       "      <td>49.276847</td>\n",
       "      <td>-123.113717</td>\n",
       "      <td>8.600000</td>\n",
       "      <td>32.000000</td>\n",
       "      <td>13.000000</td>\n",
       "    </tr>\n",
       "    <tr>\n",
       "      <th>Chinatown</th>\n",
       "      <td>49.281249</td>\n",
       "      <td>-123.104528</td>\n",
       "      <td>8.080000</td>\n",
       "      <td>90.700000</td>\n",
       "      <td>32.133333</td>\n",
       "    </tr>\n",
       "    <tr>\n",
       "      <th>Bentall Centre</th>\n",
       "      <td>49.284938</td>\n",
       "      <td>-123.119313</td>\n",
       "      <td>8.068750</td>\n",
       "      <td>125.625000</td>\n",
       "      <td>40.062500</td>\n",
       "    </tr>\n",
       "    <tr>\n",
       "      <th>Canada Place</th>\n",
       "      <td>49.286114</td>\n",
       "      <td>-123.113201</td>\n",
       "      <td>8.040000</td>\n",
       "      <td>141.600000</td>\n",
       "      <td>64.800000</td>\n",
       "    </tr>\n",
       "  </tbody>\n",
       "</table>\n",
       "</div>"
      ],
      "text/plain": [
       "                          lat         lng    rating  LikesCount  TipsCount\n",
       "Neighbourhood                                                             \n",
       "Northwest West End  49.284070 -123.125610  8.766667  112.666667  47.333333\n",
       "Northeast Downtown  49.276847 -123.113717  8.600000   32.000000  13.000000\n",
       "Chinatown           49.281249 -123.104528  8.080000   90.700000  32.133333\n",
       "Bentall Centre      49.284938 -123.119313  8.068750  125.625000  40.062500\n",
       "Canada Place        49.286114 -123.113201  8.040000  141.600000  64.800000"
      ]
     },
     "execution_count": 209,
     "metadata": {},
     "output_type": "execute_result"
    }
   ],
   "source": [
    "#venues with best ratings\n",
    "venues_merged.groupby(by=\"Neighbourhood\", dropna=False).mean().sort_values(by=['rating'],ascending=False).head()"
   ]
  },
  {
   "cell_type": "code",
   "execution_count": 210,
   "metadata": {},
   "outputs": [
    {
     "data": {
      "text/html": [
       "<div>\n",
       "<style scoped>\n",
       "    .dataframe tbody tr th:only-of-type {\n",
       "        vertical-align: middle;\n",
       "    }\n",
       "\n",
       "    .dataframe tbody tr th {\n",
       "        vertical-align: top;\n",
       "    }\n",
       "\n",
       "    .dataframe thead th {\n",
       "        text-align: right;\n",
       "    }\n",
       "</style>\n",
       "<table border=\"1\" class=\"dataframe\">\n",
       "  <thead>\n",
       "    <tr style=\"text-align: right;\">\n",
       "      <th></th>\n",
       "      <th>lat</th>\n",
       "      <th>lng</th>\n",
       "      <th>rating</th>\n",
       "      <th>LikesCount</th>\n",
       "      <th>TipsCount</th>\n",
       "    </tr>\n",
       "    <tr>\n",
       "      <th>Neighbourhood</th>\n",
       "      <th></th>\n",
       "      <th></th>\n",
       "      <th></th>\n",
       "      <th></th>\n",
       "      <th></th>\n",
       "    </tr>\n",
       "  </thead>\n",
       "  <tbody>\n",
       "    <tr>\n",
       "      <th>Canada Place</th>\n",
       "      <td>49.286114</td>\n",
       "      <td>-123.113201</td>\n",
       "      <td>8.040000</td>\n",
       "      <td>141.600000</td>\n",
       "      <td>64.800000</td>\n",
       "    </tr>\n",
       "    <tr>\n",
       "      <th>Bentall Centre</th>\n",
       "      <td>49.284938</td>\n",
       "      <td>-123.119313</td>\n",
       "      <td>8.068750</td>\n",
       "      <td>125.625000</td>\n",
       "      <td>40.062500</td>\n",
       "    </tr>\n",
       "    <tr>\n",
       "      <th>Northwest West End</th>\n",
       "      <td>49.284070</td>\n",
       "      <td>-123.125610</td>\n",
       "      <td>8.766667</td>\n",
       "      <td>112.666667</td>\n",
       "      <td>47.333333</td>\n",
       "    </tr>\n",
       "    <tr>\n",
       "      <th>Chinatown</th>\n",
       "      <td>49.281249</td>\n",
       "      <td>-123.104528</td>\n",
       "      <td>8.080000</td>\n",
       "      <td>90.700000</td>\n",
       "      <td>32.133333</td>\n",
       "    </tr>\n",
       "    <tr>\n",
       "      <th>Gastown</th>\n",
       "      <td>49.283587</td>\n",
       "      <td>-123.108127</td>\n",
       "      <td>7.828571</td>\n",
       "      <td>86.428571</td>\n",
       "      <td>153.857143</td>\n",
       "    </tr>\n",
       "  </tbody>\n",
       "</table>\n",
       "</div>"
      ],
      "text/plain": [
       "                          lat         lng    rating  LikesCount   TipsCount\n",
       "Neighbourhood                                                              \n",
       "Canada Place        49.286114 -123.113201  8.040000  141.600000   64.800000\n",
       "Bentall Centre      49.284938 -123.119313  8.068750  125.625000   40.062500\n",
       "Northwest West End  49.284070 -123.125610  8.766667  112.666667   47.333333\n",
       "Chinatown           49.281249 -123.104528  8.080000   90.700000   32.133333\n",
       "Gastown             49.283587 -123.108127  7.828571   86.428571  153.857143"
      ]
     },
     "execution_count": 210,
     "metadata": {},
     "output_type": "execute_result"
    }
   ],
   "source": [
    "#venues with more likes\n",
    "venues_merged.groupby(by=\"Neighbourhood\", dropna=False).mean().sort_values(by=['LikesCount'],ascending=False).head()"
   ]
  },
  {
   "cell_type": "code",
   "execution_count": 208,
   "metadata": {},
   "outputs": [
    {
     "data": {
      "text/html": [
       "<div>\n",
       "<style scoped>\n",
       "    .dataframe tbody tr th:only-of-type {\n",
       "        vertical-align: middle;\n",
       "    }\n",
       "\n",
       "    .dataframe tbody tr th {\n",
       "        vertical-align: top;\n",
       "    }\n",
       "\n",
       "    .dataframe thead th {\n",
       "        text-align: right;\n",
       "    }\n",
       "</style>\n",
       "<table border=\"1\" class=\"dataframe\">\n",
       "  <thead>\n",
       "    <tr style=\"text-align: right;\">\n",
       "      <th></th>\n",
       "      <th>lat</th>\n",
       "      <th>lng</th>\n",
       "      <th>rating</th>\n",
       "      <th>LikesCount</th>\n",
       "      <th>TipsCount</th>\n",
       "    </tr>\n",
       "    <tr>\n",
       "      <th>Neighbourhood</th>\n",
       "      <th></th>\n",
       "      <th></th>\n",
       "      <th></th>\n",
       "      <th></th>\n",
       "      <th></th>\n",
       "    </tr>\n",
       "  </thead>\n",
       "  <tbody>\n",
       "    <tr>\n",
       "      <th>Gastown</th>\n",
       "      <td>49.283587</td>\n",
       "      <td>-123.108127</td>\n",
       "      <td>7.828571</td>\n",
       "      <td>86.428571</td>\n",
       "      <td>153.857143</td>\n",
       "    </tr>\n",
       "    <tr>\n",
       "      <th>Canada Place</th>\n",
       "      <td>49.286114</td>\n",
       "      <td>-123.113201</td>\n",
       "      <td>8.040000</td>\n",
       "      <td>141.600000</td>\n",
       "      <td>64.800000</td>\n",
       "    </tr>\n",
       "    <tr>\n",
       "      <th>Northwest West End</th>\n",
       "      <td>49.284070</td>\n",
       "      <td>-123.125610</td>\n",
       "      <td>8.766667</td>\n",
       "      <td>112.666667</td>\n",
       "      <td>47.333333</td>\n",
       "    </tr>\n",
       "    <tr>\n",
       "      <th>Bentall Centre</th>\n",
       "      <td>49.284938</td>\n",
       "      <td>-123.119313</td>\n",
       "      <td>8.068750</td>\n",
       "      <td>125.625000</td>\n",
       "      <td>40.062500</td>\n",
       "    </tr>\n",
       "    <tr>\n",
       "      <th>Yaletown</th>\n",
       "      <td>49.276608</td>\n",
       "      <td>-123.120822</td>\n",
       "      <td>8.022857</td>\n",
       "      <td>77.714286</td>\n",
       "      <td>33.371429</td>\n",
       "    </tr>\n",
       "  </tbody>\n",
       "</table>\n",
       "</div>"
      ],
      "text/plain": [
       "                          lat         lng    rating  LikesCount   TipsCount\n",
       "Neighbourhood                                                              \n",
       "Gastown             49.283587 -123.108127  7.828571   86.428571  153.857143\n",
       "Canada Place        49.286114 -123.113201  8.040000  141.600000   64.800000\n",
       "Northwest West End  49.284070 -123.125610  8.766667  112.666667   47.333333\n",
       "Bentall Centre      49.284938 -123.119313  8.068750  125.625000   40.062500\n",
       "Yaletown            49.276608 -123.120822  8.022857   77.714286   33.371429"
      ]
     },
     "execution_count": 208,
     "metadata": {},
     "output_type": "execute_result"
    }
   ],
   "source": [
    "#venues with more tips\n",
    "venues_merged.groupby(by=\"Neighbourhood\", dropna=False).mean().sort_values(by=['TipsCount'],ascending=False).head()"
   ]
  },
  {
   "cell_type": "markdown",
   "metadata": {},
   "source": [
    "## Conclusion: The best Neighbourhood to live in Vancouver based on the restaurants parameters is the Northwest West End."
   ]
  },
  {
   "cell_type": "code",
   "execution_count": null,
   "metadata": {},
   "outputs": [],
   "source": []
  }
 ],
 "metadata": {
  "kernelspec": {
   "display_name": "Python",
   "language": "python",
   "name": "conda-env-python-py"
  },
  "language_info": {
   "codemirror_mode": {
    "name": "ipython",
    "version": 3
   },
   "file_extension": ".py",
   "mimetype": "text/x-python",
   "name": "python",
   "nbconvert_exporter": "python",
   "pygments_lexer": "ipython3",
   "version": "3.6.12"
  }
 },
 "nbformat": 4,
 "nbformat_minor": 4
}
